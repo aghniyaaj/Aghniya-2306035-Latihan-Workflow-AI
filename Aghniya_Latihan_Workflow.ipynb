{
  "nbformat": 4,
  "nbformat_minor": 0,
  "metadata": {
    "colab": {
      "provenance": [],
      "authorship_tag": "ABX9TyPYQIk8eJERy9cblH1EVJfM",
      "include_colab_link": true
    },
    "kernelspec": {
      "name": "python3",
      "display_name": "Python 3"
    },
    "language_info": {
      "name": "python"
    }
  },
  "cells": [
    {
      "cell_type": "markdown",
      "metadata": {
        "id": "view-in-github",
        "colab_type": "text"
      },
      "source": [
        "<a href=\"https://colab.research.google.com/github/aghniyaaj/Aghniya-2306035-Latihan-Workflow-AI/blob/main/Aghniya_Latihan_Workflow.ipynb\" target=\"_parent\"><img src=\"https://colab.research.google.com/assets/colab-badge.svg\" alt=\"Open In Colab\"/></a>"
      ]
    },
    {
      "cell_type": "code",
      "source": [
        "import pandas as pd\n",
        "#membaca file csv\n",
        "df = pd.read_csv(\"data_penjualan.csv\")\n",
        "#menampilkan 10 data\n",
        "print (df.head(10))"
      ],
      "metadata": {
        "colab": {
          "base_uri": "https://localhost:8080/"
        },
        "id": "PCmPM4X44XSk",
        "outputId": "0e7d2b27-6710-466c-9a26-449d32e14f4a"
      },
      "execution_count": 7,
      "outputs": [
        {
          "output_type": "stream",
          "name": "stdout",
          "text": [
            "      Tanggal         Produk  Jumlah Terjual  Stok  Harga Satuan\n",
            "0  2025-02-01  Minyak Goreng              10    20         15000\n",
            "1  2025-02-01          Beras               5    15         12000\n",
            "2  2025-02-02           Gula               7     8         13000\n",
            "3  2025-02-02         Tepung               3    12         11000\n",
            "4  2025-02-03     Mie Instan              12    25          3000\n",
            "5  2025-02-03           Susu               8    10         18000\n",
            "6  2025-02-04          Micin              10    19          5000\n",
            "7  2025-02-04     Sabun Cuci               4    10          4000\n",
            "8  2025-02-05     Pasta Gigi               5     9          9000\n",
            "9  2025-02-05          Garam              13    11          7000\n"
          ]
        }
      ]
    },
    {
      "cell_type": "code",
      "source": [
        "# Cek apakah ada data yang kosong\n",
        "print(df.isnull().sum())\n",
        "\n",
        "# Konversi kolom \"Tanggal\" ke format datetime\n",
        "df[\"Tanggal\"] = pd.to_datetime(df[\"Tanggal\"])\n",
        "\n",
        "# Tambahkan kolom \"Total Penjualan\"\n",
        "df[\"Total Penjualan\"] = df[\"Jumlah Terjual\"] * df[\"Harga Satuan\"]\n",
        "\n",
        "# Tambahkan kolom \"Keuntungan\" (asumsi modal 10.000 per produk)\n",
        "df[\"Keuntungan\"] = df[\"Total Penjualan\"] - (df[\"Jumlah Terjual\"] * 10000)\n",
        "\n",
        "# Menampilkan hasil transformasi\n",
        "print(df.head(10))\n"
      ],
      "metadata": {
        "colab": {
          "base_uri": "https://localhost:8080/"
        },
        "id": "m5GFBtr_4yVQ",
        "outputId": "8fb84bfe-ac15-487b-d032-2a882691ea00"
      },
      "execution_count": 9,
      "outputs": [
        {
          "output_type": "stream",
          "name": "stdout",
          "text": [
            "Tanggal            0\n",
            "Produk             0\n",
            "Jumlah Terjual     0\n",
            "Stok               0\n",
            "Harga Satuan       0\n",
            "Total Penjualan    0\n",
            "Keuntungan         0\n",
            "dtype: int64\n",
            "     Tanggal         Produk  Jumlah Terjual  Stok  Harga Satuan  \\\n",
            "0 2025-02-01  Minyak Goreng              10    20         15000   \n",
            "1 2025-02-01          Beras               5    15         12000   \n",
            "2 2025-02-02           Gula               7     8         13000   \n",
            "3 2025-02-02         Tepung               3    12         11000   \n",
            "4 2025-02-03     Mie Instan              12    25          3000   \n",
            "5 2025-02-03           Susu               8    10         18000   \n",
            "6 2025-02-04          Micin              10    19          5000   \n",
            "7 2025-02-04     Sabun Cuci               4    10          4000   \n",
            "8 2025-02-05     Pasta Gigi               5     9          9000   \n",
            "9 2025-02-05          Garam              13    11          7000   \n",
            "\n",
            "   Total Penjualan  Keuntungan  \n",
            "0           150000       50000  \n",
            "1            60000       10000  \n",
            "2            91000       21000  \n",
            "3            33000        3000  \n",
            "4            36000      -84000  \n",
            "5           144000       64000  \n",
            "6            50000      -50000  \n",
            "7            16000      -24000  \n",
            "8            45000       -5000  \n",
            "9            91000      -39000  \n"
          ]
        }
      ]
    },
    {
      "cell_type": "code",
      "source": [
        "!pip install scikit-learn"
      ],
      "metadata": {
        "colab": {
          "base_uri": "https://localhost:8080/"
        },
        "id": "oZ_fOJHf5HZB",
        "outputId": "3847940a-1297-4d99-82b8-09e6730125b9"
      },
      "execution_count": 11,
      "outputs": [
        {
          "output_type": "stream",
          "name": "stdout",
          "text": [
            "Requirement already satisfied: scikit-learn in /usr/local/lib/python3.11/dist-packages (1.6.1)\n",
            "Requirement already satisfied: numpy>=1.19.5 in /usr/local/lib/python3.11/dist-packages (from scikit-learn) (1.26.4)\n",
            "Requirement already satisfied: scipy>=1.6.0 in /usr/local/lib/python3.11/dist-packages (from scikit-learn) (1.13.1)\n",
            "Requirement already satisfied: joblib>=1.2.0 in /usr/local/lib/python3.11/dist-packages (from scikit-learn) (1.4.2)\n",
            "Requirement already satisfied: threadpoolctl>=3.1.0 in /usr/local/lib/python3.11/dist-packages (from scikit-learn) (3.5.0)\n"
          ]
        }
      ]
    },
    {
      "cell_type": "code",
      "source": [
        "from sklearn.model_selection import train_test_split\n",
        "from sklearn.tree import DecisionTreeClassifier\n",
        "from sklearn.metrics import accuracy_score\n",
        "\n",
        "# Pilih fitur (X) dan target (y)\n",
        "X = df[[\"Jumlah Terjual\", \"Stok\"]]\n",
        "y = (df[\"Stok\"] < 5).astype(int)  # 1 jika stok kurang dari 5, 0 jika cukup\n",
        "\n",
        "# Split data menjadi train dan test\n",
        "X_train, X_test, y_train, y_test = train_test_split(X, y, test_size=0.2, random_state=42)\n",
        "\n",
        "# Buat model Decision Tree\n",
        "model = DecisionTreeClassifier()\n",
        "model.fit(X_train, y_train)\n",
        "\n",
        "# Evaluasi model\n",
        "y_pred = model.predict(X_test)\n",
        "print(\"Akurasi Model:\", accuracy_score(y_test, y_pred))\n"
      ],
      "metadata": {
        "colab": {
          "base_uri": "https://localhost:8080/"
        },
        "id": "inWowIiO5Wpr",
        "outputId": "e86ab276-d4db-4da6-c65d-f248cdfb93c9"
      },
      "execution_count": 12,
      "outputs": [
        {
          "output_type": "stream",
          "name": "stdout",
          "text": [
            "Akurasi Model: 1.0\n"
          ]
        }
      ]
    },
    {
      "cell_type": "code",
      "source": [
        "# Contoh produk baru (jumlah terjual 8, stok tersisa 3)\n",
        "produk_baru = [[8, 3]]\n",
        "prediksi = model.predict(produk_baru)\n",
        "\n",
        "if prediksi[0] == 1:\n",
        "    print(\"Produk perlu di-restock!\")\n",
        "else:\n",
        "    print(\"Stok masih cukup.\")\n"
      ],
      "metadata": {
        "colab": {
          "base_uri": "https://localhost:8080/"
        },
        "id": "mXUDVpx85mLP",
        "outputId": "4730c735-7e02-4536-dd4e-86e0240c9c8f"
      },
      "execution_count": 13,
      "outputs": [
        {
          "output_type": "stream",
          "name": "stdout",
          "text": [
            "Stok masih cukup.\n"
          ]
        },
        {
          "output_type": "stream",
          "name": "stderr",
          "text": [
            "/usr/local/lib/python3.11/dist-packages/sklearn/utils/validation.py:2739: UserWarning: X does not have valid feature names, but DecisionTreeClassifier was fitted with feature names\n",
            "  warnings.warn(\n"
          ]
        }
      ]
    },
    {
      "cell_type": "code",
      "source": [
        "import matplotlib.pyplot as plt\n",
        "\n",
        "plt.scatter(df[\"Jumlah Terjual\"], df[\"Stok\"], c=df[\"Keuntungan\"], cmap=\"coolwarm\")\n",
        "plt.xlabel(\"Jumlah Terjual\")\n",
        "plt.ylabel(\"Stok\")\n",
        "plt.title(\"Analisis Penjualan dan Stok\")\n",
        "plt.colorbar(label=\"Keuntungan\")\n",
        "plt.show()\n"
      ],
      "metadata": {
        "colab": {
          "base_uri": "https://localhost:8080/",
          "height": 472
        },
        "id": "2HkPjBdn5oGX",
        "outputId": "06464c83-f7a2-4ac8-ad09-ea32c2195383"
      },
      "execution_count": 14,
      "outputs": [
        {
          "output_type": "display_data",
          "data": {
            "text/plain": [
              "<Figure size 640x480 with 2 Axes>"
            ],
            "image/png": "[encoded data removed]"
          },
          "metadata": {}
        }
      ]
    }
  ]
}